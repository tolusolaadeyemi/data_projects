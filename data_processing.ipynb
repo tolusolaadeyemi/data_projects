{
 "cells": [
  {
   "cell_type": "markdown",
   "id": "415bc328-fa59-42f7-9e3f-4094ae62d1f4",
   "metadata": {},
   "source": [
    "## <font color=\"green\"> Abstract </font>\n",
    "The purpose of this data analysis project is to demonstrate proficiency in Python programming and data analysis by creating a script in Jupyter Notebook. The script should read a provided text file, perform data cleaning and preprocessing, identify the 10 most common words, and create a word count graph for visualisation. This paper uses various python methods and external libraries (`nltk`, `seaborn`,`matplotlib`,`unidecode`) to examine a `txt` file containing *Beatles* lyrics that is part of a bigger `Song Lyrics` dataset found on Kaggle<sup>[1]</sup> The dataset is a corpus of several songs by various artists used for projects surrounding poetry generation with Python. The `beatles.txt` file chosen for this project contains lyrics from about 10 (or more, this is an estimation) songs from `The Beatles` in one file. The script described in this report uses various methods to clean and analyze the data and discover various insights such as the word `love` is the most common word use, appearing **298** times in the file. This is no surprise as The Beatles, who are regarded as *the most influential band of all time*, wrote and performed a lot of romantic songs\n",
    "\n",
    "\n",
    "## <font color=\"blue\"> Keywords </font>\n",
    "`python`, `data analysis`, `jupyter notebook`,`data preprocessing`,`data cleaning`,`most common words`,`word count vizualization`,`seaborn`,`matplotlib`\n",
    "\n",
    "## <font color=\"blue\"> Introduction </font>\n",
    "As noted above, the dataset is part of a larger data set of song lyrics used primarily for projects involving poetry generation with python. Presumably a non-generative AI algorithm. Performing actions on the preprocessed data such as identifying the 10 most common words and visualizing them for better understanding will help us identify what words are more likely to be reproduced by the algorithm trained on this data, and the probability/frequency of their appearance.\n",
    "\n",
    "## <font color=\"blue\"> Methods </font>\n",
    "### <font color=\"purple\"> Data Loading</font>\n",
    "In the code below, I first import all the various built-in and external libraries that I will be using for this project: `string`, `nltk` (for stopword/punctuation removal and word tokenization), `contractions` (to remove contractions), `seaborn` (for word count vizualisation), `matplotlib` (also for word count vizualisation, typically used hand-in-hand with seaborn for data vizualisation), `unidecode` (this takes Unicode data and tries to represent it in ASCII characters, helps with data cleaning), and `collection.Counter` (a collection where elements are stored as dictionary keys and their counts are stored as dictionary values. Counts are allowed to be any integer value including zero or negative counts. <sup>[2]</sup>)."
   ]
  },
  {
   "cell_type": "code",
   "execution_count": 1,
   "id": "189bb73c-b3c5-4a6a-84f6-542d08690005",
   "metadata": {},
   "outputs": [],
   "source": [
    "import nltk\n",
    "import string\n",
    "import contractions\n",
    "import seaborn as sns\n",
    "import matplotlib.pyplot as plt\n",
    "from nltk.tokenize import word_tokenize\n",
    "from unidecode import unidecode\n",
    "from collections import Counter"
   ]
  },
  {
   "cell_type": "markdown",
   "id": "6bd70c48-efc9-400f-bd6a-7a9a419880e1",
   "metadata": {},
   "source": [
    "I then proceed to use a context manager (`with`) to open the file and read its contents with the `.read()` python method. The method reads the entire content of the `beatles.txt` file from the current file cursor position to the end of the file. I also use the `.readlines()` method (which returns a list of strings, where each string is a line from the file) because I want to loop through the lines and count the number of words to confirm there are > 10,000 words as per the project specification (there **14,340** words). I use `.seek()` here to set the cursor to zero (starting point) to prevent reaching the end of the file as i am using both the `read()` and `readlines()` methods <sup>[3]</sup>. I use the `.split()` method in a `for loop` to split the indivual lines into words, as well as another loop inside to append the individual words to the empty list `all_words`, in order to print the length of the values.\n"
   ]
  },
  {
   "cell_type": "code",
   "execution_count": 2,
   "id": "7e01c30a-2433-40a4-9691-1efebd4db5d9",
   "metadata": {},
   "outputs": [
    {
     "name": "stdout",
     "output_type": "stream",
     "text": [
      "there are: 14340 words in the file\n",
      "there are: 1846 lines in the file\n"
     ]
    }
   ],
   "source": [
    "with open(\"./beatles.txt\", \"r\", encoding=\"utf8\") as file:\n",
    "    content = file.read()\n",
    "    file.seek(0)\n",
    "    lines = file.readlines()\n",
    "    \n",
    "    all_words = []\n",
    "    for line in lines:\n",
    "        words = line.split()\n",
    "        for i in words:\n",
    "            all_words.append(i)\n",
    "\n",
    "print(f\"there are: {len(all_words)} words in the file\")  \n",
    "print(f\"there are: {len(lines)} lines in the file\")  "
   ]
  },
  {
   "cell_type": "markdown",
   "id": "1f181a9c-a984-4edd-9cb8-028ee5613406",
   "metadata": {},
   "source": [
    "### <font color=\"purple\"> Data Cleaning and Preprocessing </font>\n",
    "In order to clean and preprocess the data, I perform some necessary steps:\n",
    "- Use `unidecode` to ensure that all characters in the data can be safely encoded to ASCII\n",
    "- Convert all text to lowercase with the `.lower()` string method to ensure consistency.\n",
    "- Remove contractions (with `contractions.fix()`)\n",
    "- Tokenize the text by splitting it into individual words (with `nltk.word_tokenize`). This is simply dividing text into smaller units called tokens, in this case the tokens are individual `words`.\n",
    "- Remove punctuations from the `tokenized_content` list with `string.punctuation()` and my own small list (`more_punctuation` of other punctuation characters found in the data upon exploration but not included in `string.punctuation()`. The words without punctuation are then appended to the empty list `words_without_punctuation`)\n",
    "- The length of the text is printed at each stage to observe how the data is reduced during cleaning and preprocessing. We go from > **70,000** words to ≈  **15,000** words."
   ]
  },
  {
   "cell_type": "code",
   "execution_count": 3,
   "id": "807c3fb2-7c76-44ca-83ce-58f3d5cbd13c",
   "metadata": {},
   "outputs": [
    {
     "name": "stdout",
     "output_type": "stream",
     "text": [
      "70685\n",
      "71567\n",
      "16547\n",
      "15011\n"
     ]
    },
    {
     "name": "stderr",
     "output_type": "stream",
     "text": [
      "[nltk_data] Downloading package punkt to\n",
      "[nltk_data]     /Users/tolusolaadeyemi/nltk_data...\n",
      "[nltk_data]   Package punkt is already up-to-date!\n"
     ]
    }
   ],
   "source": [
    "#unidecode and convert to lowercase\n",
    "clean_content = unidecode(content)\n",
    "normalized_content = clean_content.lower()\n",
    "print(len(normalized_content))\n",
    "      \n",
    "#remove contractions\n",
    "expanded_text = contractions.fix(normalized_content)\n",
    "print(len(expanded_text))\n",
    "\n",
    "#tokenization\n",
    "tokenized_content = word_tokenize(expanded_text)\n",
    "print(len(tokenized_content))\n",
    "\n",
    "#remove punctuation\n",
    "nltk.download(\"punkt\")\n",
    "words_without_punctuations = []\n",
    "more_punctuation = [\"''\",\"--\",\"``\"]\n",
    "for x in tokenized_content:\n",
    "    if x not in string.punctuation and x not in more_punctuation:\n",
    "        words_without_punctuations.append(x)\n",
    "\n",
    "print(len(words_without_punctuations))\n"
   ]
  },
  {
   "cell_type": "markdown",
   "id": "2df7e1cd-040b-45ea-a0c9-28bb17b2ed5c",
   "metadata": {},
   "source": [
    "- Using `nltk`, I utilise a list of `stop words` to remove common words that do not contribute significant meaning to the analysis.\n",
    "- In the code below, I loop through the `words_without_punctuations` list created above and append any words not in the `english stopwords corpus` to my empty list `filtered_tokens`\n",
    "- We now go from ≈ **15,000** words to **7,310** words."
   ]
  },
  {
   "cell_type": "code",
   "execution_count": 4,
   "id": "424272fb-4884-49e0-9803-75889369593a",
   "metadata": {},
   "outputs": [
    {
     "name": "stdout",
     "output_type": "stream",
     "text": [
      "7310\n"
     ]
    },
    {
     "name": "stderr",
     "output_type": "stream",
     "text": [
      "[nltk_data] Downloading package stopwords to\n",
      "[nltk_data]     /Users/tolusolaadeyemi/nltk_data...\n",
      "[nltk_data]   Package stopwords is already up-to-date!\n"
     ]
    }
   ],
   "source": [
    "nltk.download('stopwords')\n",
    "stop_words = set(nltk.corpus.stopwords.words('english'))\n",
    "filtered_tokens = []\n",
    "for token in words_without_punctuations:\n",
    "    if token not in stop_words:\n",
    "        filtered_tokens.append(token)\n",
    "       \n",
    "print(len(filtered_tokens))"
   ]
  },
  {
   "cell_type": "markdown",
   "id": "c07a4d64-21ac-4266-a771-bb5b93928f39",
   "metadata": {},
   "source": [
    "- Using `collections.Counter`, I then calculate the frequency of each remaining word in the pre-processed text.\n",
    "- `counter_obj` is a Dictionary with **1459** objects. This means there 1459 distinct words in the text. The `keys` are the words and the `values` are their frequency in the text.\n",
    "- I will also use the `Counter` method `.most_common(n)` on `counter_obj` and pass `n=10` in order to identify the 10 most common words in the text <sup>[4]</sup>."
   ]
  },
  {
   "cell_type": "code",
   "execution_count": 5,
   "id": "0304f0f6-3a38-4533-9176-2f97aa9ddb8d",
   "metadata": {},
   "outputs": [
    {
     "name": "stdout",
     "output_type": "stream",
     "text": [
      "1459\n",
      "[('love', 298), ('nah', 162), ('know', 137), ('say', 97), ('oh', 86), ('yeah', 85), ('get', 84), ('let', 83), ('back', 82), ('come', 73)]\n"
     ]
    }
   ],
   "source": [
    "counter_obj = Counter(filtered_tokens)\n",
    "print(len(counter_obj))\n",
    "ten_most_common = counter_obj.most_common(10) \n",
    "print(ten_most_common)"
   ]
  },
  {
   "cell_type": "markdown",
   "id": "52d349fa-c736-40a2-81bc-8040e5423931",
   "metadata": {},
   "source": [
    "## <font color=\"blue\"> Results, Discussion and Conclusions </font>\n",
    "The analysis of the data after cleaning and processing revealed that the 10 most common words are `love`, `nah`,`know`,`say`,`oh`,`yeah`,`get`,`let`,`back`, and `come`. I have included a word count graph below generated with Seaborn for visuzalization purposes. I created two empty lists `most_common_words` and `most_common_counts` in order to loop through the `ten_most_common` list of tuples created in the *Data Cleaning and Preprocessing* method. The list contains the 10 most common words as well as their corresponding counts. The x-axis of the graph displays the words, and the y-axis displays the corresponding word counts."
   ]
  },
  {
   "cell_type": "code",
   "execution_count": 6,
   "id": "3cb5f9d8-c9d7-4d8a-b429-90bbd3057749",
   "metadata": {},
   "outputs": [
    {
     "data": {
      "image/png": "[encoded data removed]",
      "text/plain": [
       "<Figure size 640x480 with 1 Axes>"
      ]
     },
     "metadata": {},
     "output_type": "display_data"
    }
   ],
   "source": [
    "most_common_words = []\n",
    "most_common_counts = []\n",
    "\n",
    "for x,y in ten_most_common:\n",
    "    most_common_words.append(x)\n",
    "    most_common_counts.append(y)\n",
    "    \n",
    "sns.set_style('whitegrid')\n",
    "\n",
    "sns.barplot(x=most_common_words, y=most_common_counts)\n",
    "\n",
    "plt.title('bar plot of frequency of 10 most common words')\n",
    "plt.xlabel('words')\n",
    "plt.ylabel('counts')\n",
    "\n",
    "plt.show()"
   ]
  },
  {
   "cell_type": "markdown",
   "id": "1198f9d0-ccd5-4c36-84f8-37f6310a058f",
   "metadata": {},
   "source": [
    "As was discussed in the introduction, `love` being the most common word used comes as little surprise. In the article, *The Songs the Beatles wrote about the women they loved*, Tyler Golsen writes \"Other than the pronouns and commonplace words like “I” and “You”, it is the word “Love” that is used most by the band in their lyrics, with over 600 uses across 213 songs. It was the universal topic that anyone could understand, and it’s something that has never aged, contributing to the band’s continued relevance\"<sup>[5]</sup>. This is in line with this project's findings and is further backed up by *The Guardian's* datablog where they actually analyze every single Beatles song ever written and include a table of the words and their frequency. `You` is the top word, appearing **2262** times and `Love` is the 8th most common word, appearing **613** times <sup>[6]</sup>.\n",
    "There is also significance in the frequency of words like `nah`,`say`, `oh`, `yeah` as we are dealing with song lyrics and these are words that are typically used a lot in choruses and melodies as sort of `filler words`. It is interesting that these words aren't included in the `ntlk english stopwords corpus` as I'm sure if they were removed, the 10 most common words list would include some more substantial words.\n",
    "\n",
    "Challenges faced during the analysis were mostly during the Data Cleaning stage. There were some characters that were still included in the text even after using `string.punctuation` and `unicode()`, this was solved with the use of the list `more_punctuations` which was more of a manual (and temporary) fix for the issue.\n",
    "\n",
    "The implications of this project's results, in regards to poetry generation with this dataset, is that many of the poems generated will most likely be centered around love and associated subjects."
   ]
  },
  {
   "cell_type": "markdown",
   "id": "ce825737-524a-4abd-b4e5-29199183ed75",
   "metadata": {},
   "source": [
    "## <font color=\"blue\"> References </font>\n",
    "- [1] P. Mooney, “Song Lyrics,” Kaggle, https://www.kaggle.com/datasets/paultimothymooney/poetry/?select=beatles.txt (accessed Nov. 29, 2023). \n",
    "- [2] “Extracting most frequent words out of a corpus with python,” Stack Overflow, https://stackoverflow.com/questions/14500028/extracting-most-frequent-words-out-of-a-corpus-with-python (accessed Nov. 29, 2023). \n",
    "- [3] “Can read() and readline() be used together?,” Stack Overflow, https://stackoverflow.com/questions/39978085/can-read-and-readline-be-used-together (accessed Nov. 29, 2023). \n",
    "- [4] “Collections - container datatypes,” Python documentation, https://docs.python.org/3/library/collections.html (accessed Nov. 29, 2023). \n",
    "- [5] T. Golsen@TylerGolsen, “The songs the Beatles wrote about the women they loved,” Far Out Magazine, https://faroutmagazine.co.uk/the-songs-the-beatles-wrote-about-the-women-they-loved (accessed Nov. 29, 2023).\n",
    "- [6] S. Rogers, “Beatles lyrics and the words they used most,” The Guardian, https://www.theguardian.com/music/datablog/2010/nov/16/beatles-lyrics-words-music-itunes (accessed Nov. 29, 2023). "
   ]
  }
 ],
 "metadata": {
  "kernelspec": {
   "display_name": "Python 3 (ipykernel)",
   "language": "python",
   "name": "python3"
  },
  "language_info": {
   "codemirror_mode": {
    "name": "ipython",
    "version": 3
   },
   "file_extension": ".py",
   "mimetype": "text/x-python",
   "name": "python",
   "nbconvert_exporter": "python",
   "pygments_lexer": "ipython3",
   "version": "3.11.4"
  }
 },
 "nbformat": 4,
 "nbformat_minor": 5
}
